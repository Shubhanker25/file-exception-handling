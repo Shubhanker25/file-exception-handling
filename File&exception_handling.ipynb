{
  "nbformat": 4,
  "nbformat_minor": 0,
  "metadata": {
    "colab": {
      "provenance": []
    },
    "kernelspec": {
      "name": "python3",
      "display_name": "Python 3"
    },
    "language_info": {
      "name": "python"
    }
  },
  "cells": [
    {
      "cell_type": "code",
      "execution_count": null,
      "metadata": {
        "id": "OrF-lG9P9Rrn"
      },
      "outputs": [],
      "source": []
    },
    {
      "cell_type": "markdown",
      "source": [
        "Qns -1 What is the difference between interpreted and compiled languages?\n",
        "\n",
        "Ans-\n",
        "\n",
        "*   In compiled languages, the source code is translated into machine code (binary code) by a compiler before the program is run. This machine code is directly executed by the computer's CPU.\n",
        "*   In interpreted languages, the source code is executed line by line by an interpreter. The interpreter translates the high-level code into machine code at runtime, rather than beforehand.\n",
        "\n"
      ],
      "metadata": {
        "id": "EmNPAXke9a6k"
      }
    },
    {
      "cell_type": "markdown",
      "source": [
        "Qns-2 What is exception handling in Python?\n",
        "\n",
        "Ans- Exception handling in Python is a way to gracefully manage errors that occur during program execution. Instead of letting the program crash when an error occurs, exception handling allows you to catch and respond to errors, potentially allowing the program to continue running.\n",
        "\n",
        "Python uses a combination of the try, except, else, and finally blocks to handle exceptions."
      ],
      "metadata": {
        "id": "rYz4Aqsf_EAU"
      }
    },
    {
      "cell_type": "markdown",
      "source": [
        "Qns-3 What is the purpose of the finally block in exception handling?\n",
        "\n",
        "Ans- The purpose of the finally block in exception handling is to define code that should always be executed, regardless of whether an exception was raised or not. This block is useful for cleanup activities such as closing files, releasing resources, or other tasks that need to happen after the try and except blocks are done."
      ],
      "metadata": {
        "id": "YUXre9Mx__Rf"
      }
    },
    {
      "cell_type": "markdown",
      "source": [
        "Qns 4- What is logging in Python?\n",
        "\n",
        "Ans- Logging in Python is a way to track events that happen during the execution of a program. It allows developers to record messages that provide information about the program’s execution flow, errors, and other important events. These messages can help in debugging, monitoring, and understanding how the code behaves over time.\n",
        "\n",
        "Python provides a built-in logging module that offers a flexible framework for emitting log messages from your code."
      ],
      "metadata": {
        "id": "B8Fzm1OcANC1"
      }
    },
    {
      "cell_type": "markdown",
      "source": [
        "Qns-5 What is the significance of the __del__ method in Python?\n",
        "\n",
        "Ans- The __del__ method in Python is a special method, often referred to as a destructor, that is automatically invoked when an object is about to be destroyed. It is used to clean up resources that the object may have acquired during its lifetime, such as closing files, releasing network connections, or freeing other system resources."
      ],
      "metadata": {
        "id": "0SFmi3sRAjCv"
      }
    },
    {
      "cell_type": "markdown",
      "source": [
        "Qns -6 What is the difference between import and from ... import in Python?\n",
        "\n",
        "Ans- The import statement is used to load a module (a file containing Python code) and access its functions, classes, and variables.\n",
        "\n",
        "When you use import, you need to reference the module name each time you want to access its elements.\n",
        "\n",
        "The from ... import statement allows you to import specific functions, classes, or variables from a module directly into your current namespace. This way, you can use them without needing to prefix them with the module name."
      ],
      "metadata": {
        "id": "22S1UhoBBH3Z"
      }
    },
    {
      "cell_type": "markdown",
      "source": [
        "Qns-7 How can you handle multiple exceptions in Python?\n",
        "\n",
        "Ans- 1-Multiple except blocks: Use separate except blocks for different exceptions.\n",
        "\n",
        "2-Single except with multiple exceptions: Handle several exceptions in one block using a tuple.\n",
        "\n",
        "3-Catch general exceptions with a base class: Use Exception or a parent class to catch any exceptions (though use it cautiously).\n",
        "\n",
        "4-Use else for successful execution: Run code if no exceptions are raised in the try block."
      ],
      "metadata": {
        "id": "Rfr5rMd9B80x"
      }
    },
    {
      "cell_type": "markdown",
      "source": [
        "Qns-8 What is the purpose of the with statement when handling files in Python?\n",
        "\n",
        "Ans- The with statement is used to create a context in which a resource (such as a file) is used. It ensures that the resource is acquired and properly cleaned up, regardless of whether an error occurs in the code block.\n",
        "\n",
        "When using the with statement to handle files:\n",
        "\n",
        "The file is automatically opened at the start of the block.\n",
        "\n",
        "The file is automatically closed when the block is exited, even if an exception occurs within the block."
      ],
      "metadata": {
        "id": "4P-Ix-tzCvSD"
      }
    },
    {
      "cell_type": "markdown",
      "source": [
        "Qns-9 What is the difference between multithreading and multiprocessing?\n",
        "\n",
        "Ans Multithreading involves running multiple threads (smaller units of a process) concurrently within the same process. These threads share the same memory space, which allows them to easily share data but also creates potential issues, such as race conditions and thread contention.\n",
        "\n",
        "\n",
        "Multiprocessing involves running multiple processes, each with its own memory space and resources. Unlike threads, each process runs independently and doesn't share memory directly. This allows true parallel execution, especially for CPU-bound tasks.\n",
        "\n"
      ],
      "metadata": {
        "id": "PS_EnQiIDRi1"
      }
    },
    {
      "cell_type": "markdown",
      "source": [
        "Qns-10 What are the advantages of using logging in a program?\n",
        "\n",
        "Ans Using logging in a program has several significant advantages over using simple print statements for tracking and debugging. The Python logging module provides a flexible framework for generating log messages that can be configured to different levels of severity, routed to different outputs, and formatted consistently.\n",
        "\n",
        "You can categorize log messages by severity, using different log levels (e.g., DEBUG, INFO, WARNING, ERROR, CRITICAL), which helps you focus on the most relevant messages."
      ],
      "metadata": {
        "id": "HU8-2u7SHvrl"
      }
    },
    {
      "cell_type": "markdown",
      "source": [
        "Qns-11 What is memory management in Python?\n",
        "\n",
        "Ans Memory management in Python refers to the process by which Python handles the allocation, usage, and deallocation of memory for objects during the execution of a program. Efficient memory management is crucial for optimizing performance and ensuring that memory resources are utilized effectively without leading to memory leaks or excessive memory consumption.\n",
        "\n",
        "Python’s memory management involves several important concepts and techniques, such as automatic garbage collection, reference counting, and the use of memory pools."
      ],
      "metadata": {
        "id": "5XCgK9cFIj4-"
      }
    },
    {
      "cell_type": "markdown",
      "source": [
        "Qns -12 What are the basic steps involved in exception handling in Python?\n",
        "\n",
        "Ans- The try block contains the code that might raise an exception.\n",
        "\n",
        "The except block catches and handles specific exceptions.\n",
        "\n",
        "The else block is optional and runs if no exceptions occur.\n",
        "\n",
        "The finally block is optional and always runs, whether or not an exception occurred, making it ideal for cleanup tasks.\n",
        "\n",
        "try:\n",
        "    # Code that might raise an exception\n",
        "except ExceptionType1:\n",
        "    # Code to handle ExceptionType1\n",
        "except ExceptionType2:\n",
        "    # Code to handle ExceptionType2\n",
        "else:\n",
        "    # Code to run if no exception occurred\n",
        "finally:\n",
        "    # Code to run regardless of an exception\n"
      ],
      "metadata": {
        "id": "s79nEykiJHJR"
      }
    },
    {
      "cell_type": "markdown",
      "source": [
        "Qns -13 Why is memory management important in Python?\n",
        "\n",
        "Ans Memory management is crucial in Python (and any programming language) because it directly impacts the performance, efficiency, and stability of a program. Proper memory management ensures that a program uses memory resources effectively, avoids memory leaks, and prevents issues such as crashes or excessive memory usage. In Python, memory management is mostly handled automatically, but understanding why it's important can help you write more efficient and reliable code.\n",
        "\n"
      ],
      "metadata": {
        "id": "d61Qr5cMJu69"
      }
    },
    {
      "cell_type": "markdown",
      "source": [
        "Qns-14 What is the role of try and except in exception handling?\n",
        "\n",
        "Ans Role of the try Block:\n",
        " The try block is where you place the code that may raise an exception. The code inside the try block is executed normally, but if an exception (error) occurs during its execution, the program stops executing the rest of the try block and looks for an appropriate except block to handle the exception.\n",
        "\n",
        " Role of the except Block:\n",
        " The except block catches and handles exceptions raised in the try block. You can specify the type of exception you want to handle (e.g., ZeroDivisionError, ValueError, etc.) or use a general except block to catch any exception.\n",
        "\n",
        " When an exception occurs in the try block, Python looks for the first except block that matches the type of the exception. If a match is found, the code inside the except block is executed to handle the exception, such as logging the error, showing a user-friendly message, or attempting a different action. If no matching exception type is found, Python will continue looking for other except blocks or terminate the program if none are present.\n",
        "\n"
      ],
      "metadata": {
        "id": "CC3Pd9rlJ8Av"
      }
    },
    {
      "cell_type": "markdown",
      "source": [
        "Qns-15 How does Python's garbage collection system work?\n",
        "\n",
        "Ans Python’s garbage collection system is a combination of:\n",
        "\n",
        "Reference Counting: Tracks the number of references to an object and deallocates memory when the reference count reaches zero.\n",
        "\n",
        "Cyclic Garbage Collection: Identifies and cleans up circular references that reference counting alone cannot handle.\n",
        "\n",
        "Together, these mechanisms ensure that Python automatically manages memory efficiently, preventing memory leaks and improving program stability and performance. While Python’s garbage collection is automatic, developers can interact with it using the gc module to fine-tune performance or troubleshoot memory-related issues."
      ],
      "metadata": {
        "id": "q6GtxgKOKdWy"
      }
    },
    {
      "cell_type": "markdown",
      "source": [
        "Qns-16 What is the purpose of the else block in exception handling?\n",
        "Ans- The else block is used to specify actions that should occur if the try block completes successfully (i.e., no exceptions are raised). It is a way to separate normal logic from exception-handling logic, improving the clarity of your code.\n",
        "\n",
        "How the else Block Works:\n",
        "The else block will not execute if an exception is raised in the try block.\n",
        "\n",
        "If no exceptions occur in the try block, the code in the else block is executed after the try block completes."
      ],
      "metadata": {
        "id": "g8fAmP7TK__C"
      }
    },
    {
      "cell_type": "markdown",
      "source": [
        "Qns-17 F What are the common logging levels in Python?\n",
        "\n",
        "Ans Logging Levels:\n",
        "\n",
        "DEBUG: Most detailed, used for debugging information.\n",
        "\n",
        "INFO: General information about program operations.\n",
        "\n",
        "WARNING: Indications of potential issues or unexpected events.\n",
        "\n",
        "ERROR: Problems that impact specific functionality but don't crash the program.\n",
        "\n",
        "CRITICAL: Severe errors that can result in the program crashing or stopping."
      ],
      "metadata": {
        "id": "vrjwCxOpLT6K"
      }
    },
    {
      "cell_type": "markdown",
      "source": [
        "Qns 18 What is the difference between os.fork() and multiprocessing in Python?\n",
        "\n",
        "Ans os.fork() is a low-level, Unix-specific function for creating new processes. It's useful for advanced users who need fine-grained control over process creation and management. It creates a new process by duplicating the parent process, which can lead to complications with shared memory and synchronization.\n",
        "\n",
        "multiprocessing is a higher-level, cross-platform module designed to make it easier to manage multiple processes. It works on both Unix and Windows, and it provides abstractions for process creation, communication, and synchronization. It’s more appropriate for general use, especially when you need to write parallel or distributed applications in a portable manner."
      ],
      "metadata": {
        "id": "eosDbkuyMFI5"
      }
    },
    {
      "cell_type": "markdown",
      "source": [
        "Qns 19 What is the importance of closing a file in Python?\n",
        "\n",
        "Ans In Python, closing a file is an important step when working with file operations. When you open a file in Python (using functions like open()), it allocates system resources (such as memory and file handles) to manage the file. If the file is not properly closed after it is no longer needed, it can lead to various issues like resource leaks, file corruption, and data loss."
      ],
      "metadata": {
        "id": "rz1obChQMdLe"
      }
    },
    {
      "cell_type": "markdown",
      "source": [
        "Qns 20  What is the difference between file.read() and file.readline() in Python?\n",
        "\n",
        "Ans-file.read() reads the entire file at once (or a specified number of characters), which can be memory-intensive for large files.\n",
        "\n",
        "file.readline() reads one line at a time, making it more efficient for large files or when you need to process lines individually."
      ],
      "metadata": {
        "id": "tby6UDbAMrPh"
      }
    },
    {
      "cell_type": "markdown",
      "source": [
        "Qns21  What is the logging module in Python used for?\n",
        "\n",
        "Ans The logging module in Python is a versatile and powerful tool for tracking and recording events in your application. It helps you monitor the program's behavior, capture errors, track performance, and troubleshoot issues effectively. By using proper logging levels and configuring handlers, you can ensure that your application provides meaningful logs that can be useful for debugging, auditing, and monitoring over time.\n"
      ],
      "metadata": {
        "id": "3j0Uu0FYM_8E"
      }
    },
    {
      "cell_type": "markdown",
      "source": [
        "Qns22 What is the os module in Python used for in file handling?\n",
        "\n",
        "Ans-The os module in Python is essential for performing various file handling and system-related tasks. It allows you to:\n",
        "\n",
        "Work with file paths in an operating system-independent way.\n",
        "\n",
        "Create, rename, and delete files and directories.\n",
        "\n",
        "Traverse directories and list their contents.\n",
        "\n",
        "Retrieve file metadata such as size and modification time.\n",
        "\n",
        "Modify file permissions and manage file descriptors."
      ],
      "metadata": {
        "id": "OGPEv7JZNS4s"
      }
    },
    {
      "cell_type": "markdown",
      "source": [
        "Qns-023 What are the challenges associated with memory management in Python?\n",
        "\n",
        "Ans- Memory management in Python, while largely automated through garbage collection, presents several challenges, particularly in complex or long-running applications. Developers must be aware of issues like cyclic references, memory leaks, fragmentation, and the limitations of Python’s memory model, especially when working with large datasets or external libraries. By using best practices, profiling tools, and being mindful of Python's memory characteristics, you can mitigate these challenges and optimize memory usage in your Python applications."
      ],
      "metadata": {
        "id": "pVfpWjecNsTj"
      }
    },
    {
      "cell_type": "markdown",
      "source": [
        "Qns 24 How do you raise an exception manually in Python?\n",
        "\n",
        "Ans In Python, you can raise an exception manually using the raise keyword. This allows you to trigger an exception at any point in your program. You can raise built-in exceptions or custom exceptions that you define.\n",
        "\n",
        "Syntax\n",
        "\n",
        "raise ExceptionType(\"Error message\")\n"
      ],
      "metadata": {
        "id": "81FEA5W0OKQl"
      }
    },
    {
      "cell_type": "markdown",
      "source": [
        "Qns-25  Why is it important to use multithreading in certain applications?\n",
        "\n",
        "Ans Using multithreading in certain applications is important because it allows you to perform multiple tasks concurrently, which can lead to improved performance, better resource utilization, and a more responsive application. Here are the main reasons why multithreading is important in specific types of applications:\n",
        "\n",
        "I/O-bound tasks.\n",
        "\n",
        "Improving performance and responsiveness.\n",
        "\n",
        "Designing scalable and efficient applications."
      ],
      "metadata": {
        "id": "-N1MRJNROncm"
      }
    },
    {
      "cell_type": "markdown",
      "source": [
        "Qns 1  How can you open a file for writing in Python and write a string to it?"
      ],
      "metadata": {
        "id": "jvO98D7UgqwV"
      }
    },
    {
      "cell_type": "code",
      "source": [
        "f=open(\"file.txt\",'w')\n",
        "f.write(\"I want to become a Data Scientist\")\n",
        "f.write(\"I want to become a Data analyst\")\n",
        "\n",
        "f.close()"
      ],
      "metadata": {
        "id": "m4nSZ0Pjgz7k"
      },
      "execution_count": 26,
      "outputs": []
    },
    {
      "cell_type": "markdown",
      "source": [
        "Qns2 Write a Python program to read the contents of a file and print each line?"
      ],
      "metadata": {
        "id": "Ify6BC1lh3s7"
      }
    },
    {
      "cell_type": "code",
      "source": [
        "#Ans\n",
        "\n",
        "# Open the file in read mode ('r')\n",
        "with open('file.txt', 'r') as file:\n",
        "    # Iterate through each line in the file\n",
        "    for line in file:\n",
        "        print(line, end='')\n",
        "\n",
        "\n"
      ],
      "metadata": {
        "id": "dm8NePLoiKc_",
        "colab": {
          "base_uri": "https://localhost:8080/"
        },
        "outputId": "daacda6c-5b5c-4892-af2f-9e5004e15ab6"
      },
      "execution_count": 28,
      "outputs": [
        {
          "output_type": "stream",
          "name": "stdout",
          "text": [
            "I want to become a Data ScientistI want to become a Data analyst"
          ]
        }
      ]
    },
    {
      "cell_type": "markdown",
      "source": [
        "Qns-3 How would you handle a case where the file doesn't exist while trying to open it for reading?"
      ],
      "metadata": {
        "id": "7t6JTxuKi-yA"
      }
    },
    {
      "cell_type": "code",
      "source": [
        "#Ans\n",
        "\n",
        "try:\n",
        "    with open('example.txt', 'r') as file:\n",
        "        lines = file.readlines()\n",
        "        for line in lines:\n",
        "            print(line)  # Print each line without adding an extra newline\n",
        "except FileNotFoundError:\n",
        "    print(\"The file does not exist.\")\n"
      ],
      "metadata": {
        "colab": {
          "base_uri": "https://localhost:8080/"
        },
        "id": "88_n7HvYjpGT",
        "outputId": "9118eb3a-6412-41b7-de23-4cab5d11662b"
      },
      "execution_count": null,
      "outputs": [
        {
          "output_type": "stream",
          "name": "stdout",
          "text": [
            "The file does not exist.\n"
          ]
        }
      ]
    },
    {
      "cell_type": "markdown",
      "source": [
        "Qns -4 Write a Python script that reads from one file and writes its content to another file?"
      ],
      "metadata": {
        "id": "6rCbQjLxjzJS"
      }
    },
    {
      "cell_type": "code",
      "source": [
        "#Ans\n",
        "# Open the source file in read mode and the destination file in write mode\n",
        "with open('file.txt', 'r') as source_file:\n",
        "    with open('destination.txt', 'w') as destination_file:\n",
        "        # Read content from the source file and write it to the destination file\n",
        "        content = source_file.read()  # Read the entire content\n",
        "        destination_file.write(content)  # Write content to the destination file\n"
      ],
      "metadata": {
        "id": "IsH3DaUej-eL"
      },
      "execution_count": null,
      "outputs": []
    },
    {
      "cell_type": "markdown",
      "source": [
        "Qns-5 How would you catch and handle division by zero error in Python?"
      ],
      "metadata": {
        "id": "veddczTkkcRB"
      }
    },
    {
      "cell_type": "code",
      "source": [
        "#Ans\n",
        "\n",
        "try:\n",
        "    numerator = 10\n",
        "    denominator = 0\n",
        "    result = numerator / denominator\n",
        "    print(result)\n",
        "except ZeroDivisionError:\n",
        "    # Code to handle the error\n",
        "    print(\"Error: Division by zero is not allowed.\")\n"
      ],
      "metadata": {
        "colab": {
          "base_uri": "https://localhost:8080/"
        },
        "id": "u-XABKqbkuYS",
        "outputId": "bf8299de-dbb8-4dd1-a444-3899fac8e301"
      },
      "execution_count": 29,
      "outputs": [
        {
          "output_type": "stream",
          "name": "stdout",
          "text": [
            "Error: Division by zero is not allowed.\n"
          ]
        }
      ]
    },
    {
      "cell_type": "markdown",
      "source": [
        "Qns-6 Write a Python program that logs an error message to a log file when a division by zero exception occurs?"
      ],
      "metadata": {
        "id": "ZodGe1lelByU"
      }
    },
    {
      "cell_type": "code",
      "source": [
        "#Ans\n",
        "\n",
        "import logging\n",
        "\n",
        "logging.basicConfig(filename='error_log.txt',\n",
        "                    level=logging.ERROR,\n",
        "                    format='%(asctime)s - %(levelname)s - %(message)s')\n",
        "\n",
        "try:\n",
        "    # Code that might raise a ZeroDivisionError\n",
        "    numerator = 10\n",
        "    denominator = 0\n",
        "    result = numerator / denominator\n",
        "except ZeroDivisionError as e:\n",
        "    # Log the error message to the log file\n",
        "    logging.error(f\"Division by zero error: {e}\")\n",
        "\n",
        "    # Print a user-friendly message (optional)\n",
        "    print(\"Error: Division by zero is not allowed.\")\n",
        "\n"
      ],
      "metadata": {
        "colab": {
          "base_uri": "https://localhost:8080/"
        },
        "id": "F4_Bf4XtlQqi",
        "outputId": "1f82fa01-5e18-42c3-9734-77dca38654e6"
      },
      "execution_count": null,
      "outputs": [
        {
          "output_type": "stream",
          "name": "stderr",
          "text": [
            "ERROR:root:Division by zero error: division by zero\n"
          ]
        },
        {
          "output_type": "stream",
          "name": "stdout",
          "text": [
            "Error: Division by zero is not allowed.\n"
          ]
        }
      ]
    },
    {
      "cell_type": "markdown",
      "source": [
        "Qns-7  How do you log information at different levels (INFO, ERROR, WARNING) in Python using the logging module?"
      ],
      "metadata": {
        "id": "ir2clzPglcJ7"
      }
    },
    {
      "cell_type": "code",
      "source": [
        "#ANs\n",
        "import logging\n",
        "\n",
        "logging.basicConfig(filename='app.log',\n",
        "                    level=logging.DEBUG,\n",
        "                    format='%(asctime)s - %(levelname)s - %(message)s')\n",
        "\n",
        "# Logging messages at different levels\n",
        "logging.debug(\"This is a debug message.\")\n",
        "logging.info(\"This is an info message.\")\n",
        "logging.warning(\"This is a warning message.\")\n",
        "logging.error(\"This is an error message.\")\n",
        "logging.critical(\"This is a critical error message.\")\n"
      ],
      "metadata": {
        "colab": {
          "base_uri": "https://localhost:8080/"
        },
        "id": "FXkVyVv8mAhE",
        "outputId": "4ef0c10d-c839-414a-bac3-ae6a18858417"
      },
      "execution_count": 30,
      "outputs": [
        {
          "output_type": "stream",
          "name": "stderr",
          "text": [
            "WARNING:root:This is a warning message.\n",
            "ERROR:root:This is an error message.\n",
            "CRITICAL:root:This is a critical error message.\n"
          ]
        }
      ]
    },
    {
      "cell_type": "markdown",
      "source": [
        "Qns-8 F Write a program to handle a file opening error using exception handling?"
      ],
      "metadata": {
        "id": "Yem3teqNmnxd"
      }
    },
    {
      "cell_type": "code",
      "source": [
        "#Ans\n",
        "try:\n",
        "\n",
        "    file_name = 'non_existent_file.txt'\n",
        "    with open(file_name, 'r') as file:\n",
        "        content = file.read()\n",
        "        print(content)\n",
        "\n",
        "except FileNotFoundError:\n",
        "    # Handle the case where the file does not exist\n",
        "    print(f\"Error: The file '{file_name}' was not found.\")\n"
      ],
      "metadata": {
        "colab": {
          "base_uri": "https://localhost:8080/"
        },
        "id": "aKioXhl9mt03",
        "outputId": "0749967b-c61d-4ef8-bb8c-7809d684200a"
      },
      "execution_count": 31,
      "outputs": [
        {
          "output_type": "stream",
          "name": "stdout",
          "text": [
            "Error: The file 'non_existent_file.txt' was not found.\n"
          ]
        }
      ]
    },
    {
      "cell_type": "markdown",
      "source": [
        "Qns -9 How can you read a file line by line and store its content in a list in Python?"
      ],
      "metadata": {
        "id": "C1F3oAstnJnP"
      }
    },
    {
      "cell_type": "code",
      "source": [
        "#Ans\n",
        "\n",
        "with open('file.txt', 'r') as file:\n",
        "    lines = file.readlines()\n",
        "print(lines,\" \")\n"
      ],
      "metadata": {
        "colab": {
          "base_uri": "https://localhost:8080/"
        },
        "id": "4Bcg-HrOnnLc",
        "outputId": "e82ce8f9-5c02-4fbb-ef8f-10d768e3014f"
      },
      "execution_count": 32,
      "outputs": [
        {
          "output_type": "stream",
          "name": "stdout",
          "text": [
            "['I want to become a Data ScientistI want to become a Data analyst']  \n"
          ]
        }
      ]
    },
    {
      "cell_type": "markdown",
      "source": [
        "Qns-10 F How can you append data to an existing file in Python?\n"
      ],
      "metadata": {
        "id": "ZNKLLR4mqWLZ"
      }
    },
    {
      "cell_type": "code",
      "source": [
        "#Ans # Open the file in append mode\n",
        "with open('file.txt', 'a') as file:\n",
        "    # Append a new line of text\n",
        "    file.write(\"This is a new line added to the file.\\n\")\n",
        "with open('file.txt', 'r') as file:\n",
        "    # Read the entire content of the file\n",
        "    content = file.read()\n",
        "    print(content)\n"
      ],
      "metadata": {
        "colab": {
          "base_uri": "https://localhost:8080/"
        },
        "id": "jaU_VQGXqZFs",
        "outputId": "dd39c2a2-f5e8-42b9-c6cd-41e8869c2a95"
      },
      "execution_count": 33,
      "outputs": [
        {
          "output_type": "stream",
          "name": "stdout",
          "text": [
            "I want to become a Data ScientistI want to become a Data analystThis is a new line added to the file.\n",
            "\n"
          ]
        }
      ]
    },
    {
      "cell_type": "markdown",
      "source": [
        "Qns-11 Write a Python program that uses a try-except block to handle an error when attempting to access a\n",
        "dictionary key that doesn't exist?"
      ],
      "metadata": {
        "id": "y95Xqjo_t67d"
      }
    },
    {
      "cell_type": "code",
      "source": [
        "#Ans\n",
        "person = {\n",
        "    \"name\": \"Ram\",\n",
        "    \"age\": 30\n",
        "}\n",
        "\n",
        "try:\n",
        "    print(\"Name:\", person[\"name\"])\n",
        "    print(\"Address:\", person[\"address\"])  # This key does not exist\n",
        "except KeyError as e:\n",
        "    print(f\"KeyError: The key '{e.args[0]}' does not exist in the dictionary.\")\n"
      ],
      "metadata": {
        "colab": {
          "base_uri": "https://localhost:8080/"
        },
        "id": "CDRGqbqBt9Na",
        "outputId": "54130c1d-a274-48f1-89cf-58e48c6fe622"
      },
      "execution_count": 1,
      "outputs": [
        {
          "output_type": "stream",
          "name": "stdout",
          "text": [
            "Name: Ram\n",
            "KeyError: The key 'address' does not exist in the dictionary.\n"
          ]
        }
      ]
    },
    {
      "cell_type": "markdown",
      "source": [
        "Qns -12 Write a program that demonstrates using multiple except blocks to handle different types of exceptions?"
      ],
      "metadata": {
        "id": "QHZX_XJvuVoH"
      }
    },
    {
      "cell_type": "code",
      "source": [
        "#Ans\n",
        "try:\n",
        "    num1 = int(input(\"Enter a number: \"))\n",
        "    num2 = int(input(\"Enter another number: \"))\n",
        "\n",
        "    # Division operation\n",
        "    result = num1 / num2\n",
        "    print(\"Result:\", result)\n",
        "\n",
        "except ValueError:\n",
        "    print(\"ValueError: Please enter valid integers.\")\n",
        "\n",
        "except ZeroDivisionError:\n",
        "    print(\"ZeroDivisionError: Cannot divide by zero.\")\n",
        "\n",
        "except Exception as e:\n",
        "    print(f\"An unexpected error occurred: {e}\")\n"
      ],
      "metadata": {
        "colab": {
          "base_uri": "https://localhost:8080/"
        },
        "id": "tXIhLJyUuYDx",
        "outputId": "edb42108-2ce4-4a57-e24d-fda43f924da9"
      },
      "execution_count": 3,
      "outputs": [
        {
          "output_type": "stream",
          "name": "stdout",
          "text": [
            "Enter a number: 5\n",
            "Enter another number: 0\n",
            "ZeroDivisionError: Cannot divide by zero.\n"
          ]
        }
      ]
    },
    {
      "cell_type": "markdown",
      "source": [
        "Qns-13 How would you check if a file exists before attempting to read it in Python?"
      ],
      "metadata": {
        "id": "MumJzEDAuszE"
      }
    },
    {
      "cell_type": "code",
      "source": [
        "#Ans\n",
        "import os\n",
        "\n",
        "file_path = 'example.txt'\n",
        "\n",
        "if os.path.exists(file_path):\n",
        "    with open(file_path, 'r') as file:\n",
        "        content = file.read()\n",
        "        print(content)\n",
        "else:\n",
        "    print(\"File does not exist.\")\n"
      ],
      "metadata": {
        "colab": {
          "base_uri": "https://localhost:8080/"
        },
        "id": "dYa8J-xvux1M",
        "outputId": "53f92ff1-7cad-4d70-895c-cd1e1c9c8364"
      },
      "execution_count": 4,
      "outputs": [
        {
          "output_type": "stream",
          "name": "stdout",
          "text": [
            "File does not exist.\n"
          ]
        }
      ]
    },
    {
      "cell_type": "markdown",
      "source": [
        "Qns-14 Write a program that uses the logging module to log both informational and error messages?"
      ],
      "metadata": {
        "id": "llg8ZLo5u68S"
      }
    },
    {
      "cell_type": "code",
      "source": [
        "#Ans\n",
        "import logging\n",
        "logging.basicConfig(\n",
        "    filename='app.log',\n",
        "    level=logging.DEBUG,\n",
        "    format='%(asctime)s - %(levelname)s - %(message)s'\n",
        ")\n",
        "def divide(a, b):\n",
        "    logging.info(f\"Attempting to divide {a} by {b}\")\n",
        "    try:\n",
        "        result = a / b\n",
        "        logging.info(f\"Division successful: {result}\")\n",
        "        return result\n",
        "    except ZeroDivisionError as e:\n",
        "        logging.error(\"Error: Cannot divide by zero.\")\n",
        "    except Exception as e:\n",
        "        logging.error(f\"Unexpected error: {e}\")\n",
        "\n",
        "divide (0,0)"
      ],
      "metadata": {
        "colab": {
          "base_uri": "https://localhost:8080/"
        },
        "id": "C_X1RuSVvBaV",
        "outputId": "03e249c6-d56d-401a-957a-f53ebfcfbe84"
      },
      "execution_count": 12,
      "outputs": [
        {
          "output_type": "stream",
          "name": "stderr",
          "text": [
            "ERROR:root:Error: Cannot divide by zero.\n"
          ]
        }
      ]
    },
    {
      "cell_type": "markdown",
      "source": [
        "Qns-15 Write a Python program that prints the content of a file and handles the case when the file is empty?"
      ],
      "metadata": {
        "id": "wArhgZ0Iv4tk"
      }
    },
    {
      "cell_type": "code",
      "source": [
        "#Ans\n",
        "def read_file(file_path):\n",
        "    try:\n",
        "        with open(file_path, 'r') as file:\n",
        "            content = file.read()\n",
        "            if not content:\n",
        "                print(\"The file is empty.\")\n",
        "            else:\n",
        "                print(\"File content:\\n\")\n",
        "                print(content)\n",
        "    except FileNotFoundError:\n",
        "        print(\"Error: File does not exist.\")\n",
        "    except Exception as e:\n",
        "        print(f\"An unexpected error occurred: {e}\")\n",
        "file_name = 'File.txt'\n",
        "read_file(file_name)\n"
      ],
      "metadata": {
        "colab": {
          "base_uri": "https://localhost:8080/"
        },
        "id": "lZ03HgHiv7In",
        "outputId": "b24be2e7-94e8-47e0-dd7c-09593aa83ffc"
      },
      "execution_count": 36,
      "outputs": [
        {
          "output_type": "stream",
          "name": "stdout",
          "text": [
            "Error: File does not exist.\n"
          ]
        }
      ]
    },
    {
      "cell_type": "markdown",
      "source": [
        "Qns-16 Demonstrate how to use memory profiling to check the memory usage of a small program?"
      ],
      "metadata": {
        "id": "FwhC4fXmxLZD"
      }
    },
    {
      "cell_type": "code",
      "source": [
        "#Ans\n",
        "import tracemalloc\n",
        "\n",
        "def create_large_list():\n",
        "    big_list = [i ** 2 for i in range(1000000)]\n",
        "    return sum(big_list)\n",
        "\n",
        "# Start tracing memory\n",
        "tracemalloc.start()\n",
        "\n",
        "# Run the function\n",
        "create_large_list()\n",
        "\n",
        "# Get memory usage snapshot\n",
        "current, peak = tracemalloc.get_traced_memory()\n",
        "print(f\"Current memory usage: {current / 1024 / 1024:.2f} MB\")\n",
        "print(f\"Peak memory usage: {peak / 1024 / 1024:.2f} MB\")\n",
        "\n",
        "# Stop tracing\n",
        "tracemalloc.stop()\n"
      ],
      "metadata": {
        "colab": {
          "base_uri": "https://localhost:8080/"
        },
        "id": "AXqqZLLjxQn1",
        "outputId": "69e479f8-ef53-4371-ad88-7c69bddc0ea4"
      },
      "execution_count": 37,
      "outputs": [
        {
          "output_type": "stream",
          "name": "stdout",
          "text": [
            "Current memory usage: 0.02 MB\n",
            "Peak memory usage: 38.60 MB\n"
          ]
        }
      ]
    },
    {
      "cell_type": "markdown",
      "source": [
        "qNS-17 Write a Python program to create and write a list of numbers to a file, one number per line?"
      ],
      "metadata": {
        "id": "PlGJb96OxtPM"
      }
    },
    {
      "cell_type": "code",
      "source": [
        "#Ans\n",
        "def write_numbers_to_file(file_path, numbers):\n",
        "    with open(file_path, 'w') as file:\n",
        "        for number in numbers:\n",
        "            file.write(f\"{number}\\n\")\n",
        "number_list = [1, 2, 3, 4, 5, 10, 25, 42]\n",
        "file_name = 'numbers.txt'\n",
        "\n",
        "# Write the list to the file\n",
        "write_numbers_to_file(file_name, number_list)\n",
        "\n",
        "print(f\"Numbers written to '{file_name}' successfully.\")\n",
        "\n",
        "for i in number_list:\n",
        "    print(i)\n"
      ],
      "metadata": {
        "colab": {
          "base_uri": "https://localhost:8080/"
        },
        "id": "e0lDc7zwxxOU",
        "outputId": "300959f2-84e1-468b-bdba-7758679dc15d"
      },
      "execution_count": 39,
      "outputs": [
        {
          "output_type": "stream",
          "name": "stdout",
          "text": [
            "Numbers written to 'numbers.txt' successfully.\n",
            "1\n",
            "2\n",
            "3\n",
            "4\n",
            "5\n",
            "10\n",
            "25\n",
            "42\n"
          ]
        }
      ]
    },
    {
      "cell_type": "markdown",
      "source": [
        "Qns-18 How would you implement a basic logging setup that logs to a file with rotation after 1MB?"
      ],
      "metadata": {
        "id": "VNQTRK2uyXv2"
      }
    },
    {
      "cell_type": "code",
      "source": [
        "#Ans\n",
        "import logging\n",
        "from logging.handlers import RotatingFileHandler\n",
        "logging.basicConfig(\n",
        "    handlers=[RotatingFileHandler('app.log', maxBytes=1_000_000, backupCount=3)],  # Rotate after 1MB, keep 3 backup\n",
        "    level=logging.DEBUG,  # Log level\n",
        "    format='%(asctime)s - %(levelname)s - %(message)s'  # Log format\n",
        ")\n",
        "\n",
        "# Example log messages\n",
        "for i in range(10000):\n",
        "    logging.info(f\"This is log message #{i}\")\n"
      ],
      "metadata": {
        "id": "cWcOkPRayclP"
      },
      "execution_count": 42,
      "outputs": []
    },
    {
      "cell_type": "markdown",
      "source": [
        "Qns-19 Write a program that handles both IndexError and KeyError using a try-except block?"
      ],
      "metadata": {
        "id": "rSmis70By5xN"
      }
    },
    {
      "cell_type": "code",
      "source": [
        "#Ans\n",
        "def handle_errors():\n",
        "    # Sample list and dictionary\n",
        "    my_list = [1, 2, 3]\n",
        "    my_dictis = {\"name\": \"Alice\", \"age\": 30}\n",
        "\n",
        "    try:\n",
        "        print(\"List element:\", my_list[5])  # This will raise an IndexError\n",
        "        print(\"Dictionary value:\", my_dictis[\"address\"])  # This will raise a KeyError\n",
        "\n",
        "    except IndexError:\n",
        "        print(\"IndexError: The index you're trying to access is out of range.\")\n",
        "\n",
        "    except KeyError:\n",
        "        print(\"KeyError: The key you're trying to access doesn't exist.\")\n",
        "\n",
        "# Call the function to handle the errors\n",
        "handle_errors()\n",
        "\n"
      ],
      "metadata": {
        "colab": {
          "base_uri": "https://localhost:8080/"
        },
        "id": "-3528UCky7f3",
        "outputId": "9313383e-52d8-48aa-fc4d-6e2661f1b6a2"
      },
      "execution_count": 52,
      "outputs": [
        {
          "output_type": "stream",
          "name": "stdout",
          "text": [
            "IndexError: The index you're trying to access is out of range.\n"
          ]
        }
      ]
    },
    {
      "cell_type": "markdown",
      "source": [
        "qns-20How would you open a file and read its contents using a context manager in Python?"
      ],
      "metadata": {
        "id": "1NMXfzjO0Fa4"
      }
    },
    {
      "cell_type": "code",
      "source": [
        "#Ans\n",
        "file_path = 'file.txt'\n",
        "\n",
        "with open(file_path, 'r') as file:\n",
        "    content = file.readlines()  # Read the entire content of the file\n",
        "    print(content)\n"
      ],
      "metadata": {
        "colab": {
          "base_uri": "https://localhost:8080/"
        },
        "id": "MpaVRjOc0ITg",
        "outputId": "1b353f3e-230f-4518-972d-05c8ad1ae7b9"
      },
      "execution_count": 56,
      "outputs": [
        {
          "output_type": "stream",
          "name": "stdout",
          "text": [
            "['I want to become a Data ScientistI want to become a Data analystThis is a new line added to the file.\\n']\n"
          ]
        }
      ]
    },
    {
      "cell_type": "markdown",
      "source": [
        "Qns-21 F Write a Python program that reads a file and prints the number of occurrences of a specific word?"
      ],
      "metadata": {
        "id": "9FzWIkOp0dIx"
      }
    },
    {
      "cell_type": "code",
      "source": [
        "#Ansd\n",
        "def count_word_in_file(file_path, word_to_count):\n",
        "    try:\n",
        "        with open(file_path, 'r') as file:\n",
        "            content = file.read().lower()\n",
        "            word_count = content.split().count(word_to_count.lower())\n",
        "            print(f\"The word '{word_to_count}' appears {word_count} times in the file.\")\n",
        "    except FileNotFoundError:\n",
        "        print(\"The file does not exist.\")\n",
        "file_path = 'file.txt'\n",
        "word = 'Data'\n",
        "count_word_in_file(file_path, word)\n"
      ],
      "metadata": {
        "colab": {
          "base_uri": "https://localhost:8080/"
        },
        "id": "-7q_0vgx0iT9",
        "outputId": "c6822e42-27ce-4594-eb19-cbf98f32dbe9"
      },
      "execution_count": 60,
      "outputs": [
        {
          "output_type": "stream",
          "name": "stdout",
          "text": [
            "The word 'Data' appears 2 times in the file.\n"
          ]
        }
      ]
    },
    {
      "cell_type": "markdown",
      "source": [
        "Qns-22 How can you check if a file is empty before attempting to read its contents?\n"
      ],
      "metadata": {
        "id": "wfSRC2HL1F1F"
      }
    },
    {
      "cell_type": "code",
      "source": [
        "#Ans\n",
        "import os\n",
        "\n",
        "def read_file_if_not_empty(file_path):\n",
        "    if os.path.getsize(file_path) == 0:\n",
        "        print(\"The file is empty.\")\n",
        "    else:\n",
        "        with open(file_path, 'r') as file:\n",
        "            content = file.read()\n",
        "            print(\"File content:\\n\", content)\n",
        "\n",
        "# Example usage\n",
        "file_path = 'file.txt'  # Replace with your file path\n",
        "read_file_if_not_empty(file_path)\n"
      ],
      "metadata": {
        "colab": {
          "base_uri": "https://localhost:8080/"
        },
        "id": "Fed37JEu1blg",
        "outputId": "8d3a5f11-1911-41c3-d510-22e2ccaab366"
      },
      "execution_count": 62,
      "outputs": [
        {
          "output_type": "stream",
          "name": "stdout",
          "text": [
            "File content:\n",
            " I want to become a Data ScientistI want to become a Data analystThis is a new line added to the file.\n",
            "\n"
          ]
        }
      ]
    },
    {
      "cell_type": "markdown",
      "source": [
        "Qns-23 Write a Python program that writes to a log file when an error occurs during file handling?"
      ],
      "metadata": {
        "id": "x-5jwG1t1oYA"
      }
    },
    {
      "cell_type": "code",
      "source": [
        "#Ans\n",
        "import logging\n",
        "logging.basicConfig(\n",
        "    filename='file_errors.log',  # Log file\n",
        "    level=logging.ERROR,         # Only log errors\n",
        "    format='%(asctime)s - %(levelname)s - %(message)s'  # Format for log entries\n",
        ")\n",
        "\n",
        "def read_file(file_path):\n",
        "    try:\n",
        "        with open(file_path, 'r') as file:\n",
        "            content = file.read()\n",
        "            print(content)\n",
        "    except Exception as e:  # Catch any kind of exception\n",
        "        logging.error(f\"Error reading file '{file_path}': {e}\")\n",
        "        print(\"An error occurred while reading the file.\")\n",
        "\n",
        "# Example usage\n",
        "file_path = 'file1.txt'\n",
        "\n",
        "# Attempt to read from a file\n",
        "read_file(file_path)\n"
      ],
      "metadata": {
        "colab": {
          "base_uri": "https://localhost:8080/"
        },
        "id": "pM-dowD41tO-",
        "outputId": "1e7b5782-920a-45c6-aa9a-7d4ceb02f32d"
      },
      "execution_count": 66,
      "outputs": [
        {
          "output_type": "stream",
          "name": "stderr",
          "text": [
            "ERROR:root:Error reading file 'file1.txt': [Errno 2] No such file or directory: 'file1.txt'\n"
          ]
        },
        {
          "output_type": "stream",
          "name": "stdout",
          "text": [
            "An error occurred while reading the file.\n"
          ]
        }
      ]
    }
  ]
}